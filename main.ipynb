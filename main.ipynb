{
 "cells": [
  {
   "attachments": {},
   "cell_type": "markdown",
   "metadata": {},
   "source": [
    "# Phase 1 Collection (11/04/2023 - 31/05/2023)\n",
    "\n",
    "During phase 1 collection, 2 NDIR CO2 sensors (model: Sensiron SCD30) were used to sense the CO2 levels within the glass container. Both sensor modules are equipped with temperature and humidity sensors that allows them to quantify exactly how hot and humid the inside of the container is.\n",
    "\n",
    "## Data Analysis\n",
    "\n",
    "The data collected from this has several observed patterns:\n",
    "\n",
    "\\<We also want to add data visualisations here about these key observed patterns\\>\n",
    "\n",
    "1. **Daily:** Temperatures will rise accordingly based on how sunny that day is. The highest temperature reached on any given day is ___. The temperature required for decomposition of PolyTerra PLA is stated by the manufacturer to be ___. \n",
    "2. **Daily:** Humidity will be lowered in reverse proportion to the temperature, as the water ___ (does the water condensate off?). \n",
    "3. **Overall Trend:** There was no observed increase in CO2 throughout the experimentation period\n",
    "\n",
    "Weight analysis: \\<To be done\\>\n",
    "\n",
    "\\<Add photos here of the probably decomposed plastics?\\>\n",
    "\n",
    "As such, we conclude that during phase 1, \\<conclusion here\\> PLA decomposition did/did not occur within the glass envelope."
   ]
  },
  {
   "attachments": {},
   "cell_type": "markdown",
   "metadata": {},
   "source": [
    "## Process 1: ingestion of data\n",
    "\n",
    "This process phase ingests and cleans multiple CSV files as data into a pandas array"
   ]
  },
  {
   "cell_type": "code",
   "execution_count": null,
   "metadata": {},
   "outputs": [],
   "source": [
    "import pandas as pd\n",
    "import os\n",
    "\n",
    "# ingest data\n",
    "co2_directory = 'CO2'\n",
    "\n",
    "for filename in os.listdir(co2_directory):\n",
    "    f = os.path.join(co2_directory, filename)\n",
    "    # checking if it is a file\n",
    "    if os.path.isfile(f):\n",
    "        #df_co2 = pd.read_csv(f)\n",
    "        print(f)\n",
    "\n",
    "\n",
    "\n",
    "\n",
    "# clean data (strip metadata)\n",
    "\n"
   ]
  },
  {
   "attachments": {},
   "cell_type": "markdown",
   "metadata": {},
   "source": [
    "## Process 2: datetime processing\n",
    "\n",
    "The dates and times have to be processed to be normalized, 5 minute intervals in order to facilitate data correlation between the 3 types of data. This resultant data can be pickled and cached on disk for rapid re-computation when tweaking the visualization algos."
   ]
  }
 ],
 "metadata": {
  "language_info": {
   "name": "python"
  },
  "orig_nbformat": 4
 },
 "nbformat": 4,
 "nbformat_minor": 2
}
